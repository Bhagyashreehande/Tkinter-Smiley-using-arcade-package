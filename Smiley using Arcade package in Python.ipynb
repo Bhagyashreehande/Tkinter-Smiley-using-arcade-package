{
 "cells": [
  {
   "cell_type": "code",
   "execution_count": null,
   "metadata": {},
   "outputs": [],
   "source": [
    "import arcade\n",
    "\n",
    "#screen size\n",
    "SCREEN_WIDTH=600\n",
    "SCREEN_HEIGHT=600\n",
    "\n",
    "#open window\n",
    "arcade.open_window(SCREEN_WIDTH,SCREEN_HEIGHT,\"KEEP SMILING!!\")\n",
    "# window title and background color\n",
    "arcade.set_background_color(arcade.color.WHITE)\n",
    "#start render process\n",
    "arcade.start_render()\n",
    "\n",
    "#draw face\n",
    "x=300\n",
    "y=300\n",
    "radius=200\n",
    "arcade.draw_circle_filled(x,y,radius,arcade.color.YELLOW)\n",
    "\n",
    "#right eye\n",
    "x=370\n",
    "y=350\n",
    "radius=20\n",
    "arcade.draw_circle_filled(x,y,radius,arcade.color.BLACK)\n",
    "\n",
    "#left eye\n",
    "x=230\n",
    "y=350\n",
    "radius=20\n",
    "arcade.draw_circle_filled(x,y,radius,arcade.color.BLACK)\n",
    "\n",
    "# draw smile\n",
    "x=300\n",
    "y=280\n",
    "width=120\n",
    "height=100\n",
    "start_angle=190\n",
    "end_angle=350\n",
    "arcade.draw_arc_outline(x,y,width,height,arcade.color.BLACK,start_angle,end_angle,10)\n",
    "\n",
    "#finish and draw\n",
    "arcade.finish_render()\n",
    "\n",
    "#keep the window open until user hits open button\n",
    "arcade.run()\n"
   ]
  },
  {
   "cell_type": "code",
   "execution_count": null,
   "metadata": {},
   "outputs": [],
   "source": []
  }
 ],
 "metadata": {
  "kernelspec": {
   "display_name": "Python 3",
   "language": "python",
   "name": "python3"
  },
  "language_info": {
   "codemirror_mode": {
    "name": "ipython",
    "version": 3
   },
   "file_extension": ".py",
   "mimetype": "text/x-python",
   "name": "python",
   "nbconvert_exporter": "python",
   "pygments_lexer": "ipython3",
   "version": "3.7.0"
  }
 },
 "nbformat": 4,
 "nbformat_minor": 2
}
